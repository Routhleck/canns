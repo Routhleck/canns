{
 "cells": [
  {
   "cell_type": "markdown",
   "metadata": {},
   "source": [
    "# Quick Start Guide\n",
    "\n",
    "[![Binder](https://mybinder.org/badge_logo.svg)](https://mybinder.org/v2/gh/routhleck/canns/HEAD?filepath=docs%2Fen%2Fnotebooks%2F02_quickstart.ipynb)\n",
    "[![Open In Colab](https://colab.research.google.com/assets/colab-badge.svg)](https://colab.research.google.com/github/routhleck/canns/blob/master/docs/en/notebooks/02_quickstart.ipynb)\n",
    "\n",
    "This guide will get you up and running with the CANNs library in just a few minutes. We'll cover the most common use cases and provide practical examples you can run immediately.\n",
    "\n",
    "## Installation\n",
    "\n",
    "First, let's make sure you have the CANNs library installed:"
   ]
  },
  {
   "cell_type": "code",
   "execution_count": null,
   "metadata": {},
   "outputs": [],
   "source": [
    "# Install CANNs (uncomment to install)\n",
    "# !pip install canns\n",
    "\n",
    "# For this notebook, let's import the required packages\n",
    "import brainstate\n",
    "import numpy as np\n",
    "import matplotlib.pyplot as plt\n",
    "\n",
    "from canns.models.basic import CANN1D, CANN2D\n",
    "from canns.task.tracking import SmoothTracking1D\n",
    "from canns.analyzer.visualize import (\n",
    "    energy_landscape_1d_animation,\n",
    "    raster_plot,\n",
    "    tuning_curve_plot\n",
    ")\n",
    "from canns.analyzer.utils import z_score_normalization"
   ]
  },
  {
   "cell_type": "markdown",
   "metadata": {},
   "source": [
    "## Example 1: Basic 1D CANN with Tracking\n",
    "\n",
    "Let's start with the most common use case - creating a 1D CANN for smooth tracking:"
   ]
  },
  {
   "cell_type": "code",
   "execution_count": null,
   "metadata": {},
   "outputs": [],
   "source": [
    "# Set up computation environment\n",
    "brainstate.environ.set(dt=0.1)\n",
    "\n",
    "# Create a 1D CANN with 256 neurons\n",
    "cann1d = CANN1D(num=256)\n",
    "cann1d.init_state()\n",
    "\n",
    "print(f\"Created 1D CANN with {cann1d.num} neurons\")\n",
    "print(f\"Feature space: [{cann1d.x.min():.2f}, {cann1d.x.max():.2f}]\")"
   ]
  },
  {
   "cell_type": "code",
   "execution_count": null,
   "metadata": {},
   "outputs": [],
   "source": [
    "# Create a simple tracking task\n",
    "task = SmoothTracking1D(\n",
    "    cann_instance=cann1d,\n",
    "    Iext=(0., 1., -1., 0.5),  # Target positions\n",
    "    duration=(5., 5., 5., 5.),  # Time at each position\n",
    "    time_step=brainstate.environ.get_dt()\n",
    ")\n",
    "\n",
    "task.get_data()\n",
    "print(f\"Task has {len(task.data)} time steps\")"
   ]
  },
  {
   "cell_type": "code",
   "execution_count": null,
   "metadata": {},
   "outputs": [],
   "source": [
    "# Run the simulation\n",
    "def run_step(t, inputs):\n",
    "    cann1d(inputs)\n",
    "    return cann1d.u.value, cann1d.inp.value\n",
    "\n",
    "print(\"Running 1D tracking simulation...\")\n",
    "us, inps = brainstate.compile.for_loop(\n",
    "    run_step,\n",
    "    task.run_steps, \n",
    "    task.data,\n",
    "    pbar=brainstate.compile.ProgressBar(5)\n",
    ")\n",
    "print(\"Simulation complete!\")"
   ]
  },
  {
   "cell_type": "code",
   "execution_count": null,
   "metadata": {},
   "outputs": [],
   "source": [
    "# Quick visualization\n",
    "fig, (ax1, ax2) = plt.subplots(2, 1, figsize=(12, 8))\n",
    "\n",
    "# Plot activity over time (heatmap)\n",
    "im1 = ax1.imshow(us.T, aspect='auto', origin='lower', cmap='viridis')\n",
    "ax1.set_title('Network Activity Over Time')\n",
    "ax1.set_xlabel('Time Steps')\n",
    "ax1.set_ylabel('Neuron Index')\n",
    "plt.colorbar(im1, ax=ax1, label='Activity')\n",
    "\n",
    "# Plot final state\n",
    "ax2.plot(cann1d.x, us[-1], 'b-', linewidth=2, label='Network Activity')\n",
    "ax2.plot(cann1d.x, inps[-1], 'r--', alpha=0.7, label='External Input')\n",
    "ax2.set_title('Final Network State')\n",
    "ax2.set_xlabel('Position')\n",
    "ax2.set_ylabel('Activity')\n",
    "ax2.legend()\n",
    "ax2.grid(True)\n",
    "\n",
    "plt.tight_layout()\n",
    "plt.show()"
   ]
  },
  {
   "cell_type": "markdown",
   "metadata": {},
   "source": [
    "## Example 2: 2D Spatial CANN\n",
    "\n",
    "Now let's create a 2D CANN for spatial representation:"
   ]
  },
  {
   "cell_type": "code",
   "execution_count": null,
   "metadata": {},
   "outputs": [],
   "source": [
    "# Create a 2D CANN\n",
    "cann2d = CANN2D(shape=(32, 32))  # 32x32 grid\n",
    "cann2d.init_state()\n",
    "\n",
    "print(f\"Created 2D CANN with shape {cann2d.shape}\")\n",
    "print(f\"Total neurons: {cann2d.num}\")\n",
    "print(f\"X range: [{cann2d.x.min():.2f}, {cann2d.x.max():.2f}]\")\n",
    "print(f\"Y range: [{cann2d.y.min():.2f}, {cann2d.y.max():.2f}]\")"
   ]
  },
  {
   "cell_type": "code",
   "execution_count": null,
   "metadata": {},
   "outputs": [],
   "source": [
    "# Create a simple 2D input (gaussian bump at origin)\n",
    "center_x, center_y = 0.0, 0.0\n",
    "sigma = 0.5\n",
    "\n",
    "# Create meshgrid for 2D positions\n",
    "X, Y = np.meshgrid(cann2d.x, cann2d.y, indexing='ij')\n",
    "input_2d = np.exp(-((X - center_x)**2 + (Y - center_y)**2) / (2 * sigma**2))\n",
    "\n",
    "# Simulate one step\n",
    "cann2d(input_2d)\n",
    "\n",
    "print(f\"Input shape: {input_2d.shape}\")\n",
    "print(f\"Network output shape: {cann2d.u.value.shape}\")"
   ]
  },
  {
   "cell_type": "code",
   "execution_count": null,
   "metadata": {},
   "outputs": [],
   "source": [
    "# Visualize 2D network activity\n",
    "fig, axes = plt.subplots(1, 3, figsize=(15, 4))\n",
    "\n",
    "# Input\n",
    "im1 = axes[0].imshow(input_2d, origin='lower', cmap='Reds')\n",
    "axes[0].set_title('Input')\n",
    "axes[0].set_xlabel('X')\n",
    "axes[0].set_ylabel('Y')\n",
    "plt.colorbar(im1, ax=axes[0])\n",
    "\n",
    "# Network activity\n",
    "im2 = axes[1].imshow(cann2d.u.value, origin='lower', cmap='viridis')\n",
    "axes[1].set_title('Network Activity')\n",
    "axes[1].set_xlabel('X')\n",
    "axes[1].set_ylabel('Y')\n",
    "plt.colorbar(im2, ax=axes[1])\n",
    "\n",
    "# Difference\n",
    "diff = cann2d.u.value - input_2d\n",
    "im3 = axes[2].imshow(diff, origin='lower', cmap='RdBu', \n",
    "                     vmin=-np.abs(diff).max(), vmax=np.abs(diff).max())\n",
    "axes[2].set_title('Activity - Input')\n",
    "axes[2].set_xlabel('X')\n",
    "axes[2].set_ylabel('Y')\n",
    "plt.colorbar(im3, ax=axes[2])\n",
    "\n",
    "plt.tight_layout()\n",
    "plt.show()"
   ]
  },
  {
   "cell_type": "markdown",
   "metadata": {},
   "source": [
    "## Example 3: Analysis Tools\n",
    "\n",
    "Let's explore some of the built-in analysis tools:"
   ]
  },
  {
   "cell_type": "code",
   "execution_count": null,
   "metadata": {},
   "outputs": [],
   "source": [
    "# Go back to our 1D example for analysis\n",
    "# Generate some spike data (simplified)\n",
    "spike_threshold = 0.1\n",
    "spike_data = us > spike_threshold\n",
    "\n",
    "print(f\"Generated spike data with {spike_data.sum()} total spikes\")\n",
    "print(f\"Spike rate: {spike_data.sum() / (spike_data.shape[0] * spike_data.shape[1]):.4f}\")"
   ]
  },
  {
   "cell_type": "code",
   "execution_count": null,
   "metadata": {},
   "outputs": [],
   "source": [
    "# Create a raster plot\n",
    "raster_plot(\n",
    "    spike_data,\n",
    "    time_range=(0, len(spike_data)),\n",
    "    neuron_range=(0, cann1d.num),\n",
    "    title='Neural Activity Raster Plot',\n",
    "    save_path='quickstart_raster.png',\n",
    "    show=True\n",
    ")\n",
    "print(\"Raster plot saved!\")"
   ]
  },
  {
   "cell_type": "code",
   "execution_count": null,
   "metadata": {},
   "outputs": [],
   "source": [
    "# Analyze tuning curves\n",
    "# Use the final activity as \"responses\" and positions as \"stimuli\"\n",
    "responses = us[-20:].mean(axis=0)  # Average over last 20 time steps\n",
    "stimuli = cann1d.x\n",
    "\n",
    "tuning_curve_plot(\n",
    "    responses,\n",
    "    stimuli,\n",
    "    title='Tuning Curves (Final State)',\n",
    "    xlabel='Position',\n",
    "    ylabel='Activity',\n",
    "    save_path='quickstart_tuning.png',\n",
    "    show=True\n",
    ")\n",
    "print(\"Tuning curve plot saved!\")"
   ]
  },
  {
   "cell_type": "code",
   "execution_count": null,
   "metadata": {},
   "outputs": [],
   "source": [
    "# Z-score normalization example\n",
    "normalized_activity = z_score_normalization(us, axis=0)\n",
    "\n",
    "fig, (ax1, ax2) = plt.subplots(1, 2, figsize=(12, 4))\n",
    "\n",
    "# Original activity\n",
    "im1 = ax1.imshow(us.T, aspect='auto', origin='lower', cmap='viridis')\n",
    "ax1.set_title('Original Activity')\n",
    "ax1.set_xlabel('Time')\n",
    "ax1.set_ylabel('Neuron')\n",
    "plt.colorbar(im1, ax=ax1)\n",
    "\n",
    "# Normalized activity\n",
    "im2 = ax2.imshow(normalized_activity.T, aspect='auto', origin='lower', cmap='viridis')\n",
    "ax2.set_title('Z-score Normalized Activity')\n",
    "ax2.set_xlabel('Time')\n",
    "ax2.set_ylabel('Neuron')\n",
    "plt.colorbar(im2, ax=ax2)\n",
    "\n",
    "plt.tight_layout()\n",
    "plt.show()\n",
    "\n",
    "print(f\"Original mean: {us.mean():.4f}, std: {us.std():.4f}\")\n",
    "print(f\"Normalized mean: {normalized_activity.mean():.4f}, std: {normalized_activity.std():.4f}\")"
   ]
  },
  {
   "cell_type": "markdown",
   "metadata": {},
   "source": [
    "## Example 4: Custom Configuration\n",
    "\n",
    "Let's see how to customize network parameters:"
   ]
  },
  {
   "cell_type": "code",
   "execution_count": null,
   "metadata": {},
   "outputs": [],
   "source": [
    "# Create a custom CANN with specific parameters\n",
    "custom_cann = CANN1D(\n",
    "    num=128,\n",
    "    # Add other parameters as needed based on the actual CANN1D constructor\n",
    ")\n",
    "custom_cann.init_state()\n",
    "\n",
    "print(f\"Custom CANN created with {custom_cann.num} neurons\")\n",
    "print(f\"Feature space: [{custom_cann.x.min():.2f}, {custom_cann.x.max():.2f}]\")"
   ]
  },
  {
   "cell_type": "code",
   "execution_count": null,
   "metadata": {},
   "outputs": [],
   "source": [
    "# Compare connectivity patterns\n",
    "fig, (ax1, ax2) = plt.subplots(1, 2, figsize=(12, 4))\n",
    "\n",
    "# Original CANN connectivity\n",
    "center_idx1 = cann1d.num // 2\n",
    "conn1 = cann1d.conn_mat[center_idx1, :]\n",
    "ax1.plot(cann1d.x, conn1, 'b-', linewidth=2)\n",
    "ax1.set_title(f'Original CANN ({cann1d.num} neurons)')\n",
    "ax1.set_xlabel('Position')\n",
    "ax1.set_ylabel('Connection Strength')\n",
    "ax1.grid(True)\n",
    "\n",
    "# Custom CANN connectivity\n",
    "center_idx2 = custom_cann.num // 2\n",
    "conn2 = custom_cann.conn_mat[center_idx2, :]\n",
    "ax2.plot(custom_cann.x, conn2, 'r-', linewidth=2)\n",
    "ax2.set_title(f'Custom CANN ({custom_cann.num} neurons)')\n",
    "ax2.set_xlabel('Position')\n",
    "ax2.set_ylabel('Connection Strength')\n",
    "ax2.grid(True)\n",
    "\n",
    "plt.tight_layout()\n",
    "plt.show()"
   ]
  },
  {
   "cell_type": "markdown",
   "metadata": {},
   "source": [
    "## Performance Tips\n",
    "\n",
    "Here are some quick tips for getting the best performance:"
   ]
  },
  {
   "cell_type": "code",
   "execution_count": null,
   "metadata": {},
   "outputs": [],
   "source": [
    "# Tip 1: Use appropriate time steps\n",
    "print(f\"Current dt: {brainstate.environ.get_dt()}\")\n",
    "\n",
    "# Tip 2: Choose network size based on your needs\n",
    "sizes = [64, 128, 256, 512]\n",
    "for size in sizes:\n",
    "    test_cann = CANN1D(num=size)\n",
    "    print(f\"Size {size}: {test_cann.conn_mat.size} connections\")\n",
    "\n",
    "# Tip 3: Use progress bars for long simulations\n",
    "print(\"\\nAlways use progress bars for visibility!\")"
   ]
  },
  {
   "cell_type": "markdown",
   "metadata": {},
   "source": [
    "## Common Patterns Summary\n",
    "\n",
    "Here's a template you can use for most CANN simulations:"
   ]
  },
  {
   "cell_type": "code",
   "execution_count": null,
   "metadata": {},
   "outputs": [],
   "source": [
    "def run_cann_simulation(network_type=\"1D\", num_neurons=256, duration=10.0):\n",
    "    \"\"\"\n",
    "    Template function for running CANN simulations\n",
    "    \"\"\"\n",
    "    # 1. Set environment\n",
    "    brainstate.environ.set(dt=0.1)\n",
    "    \n",
    "    # 2. Create network\n",
    "    if network_type == \"1D\":\n",
    "        cann = CANN1D(num=num_neurons)\n",
    "    elif network_type == \"2D\":\n",
    "        side_length = int(np.sqrt(num_neurons))\n",
    "        cann = CANN2D(shape=(side_length, side_length))\n",
    "    else:\n",
    "        raise ValueError(\"network_type must be '1D' or '2D'\")\n",
    "    \n",
    "    cann.init_state()\n",
    "    \n",
    "    # 3. Create task (example for 1D)\n",
    "    if network_type == \"1D\":\n",
    "        task = SmoothTracking1D(\n",
    "            cann_instance=cann,\n",
    "            Iext=(0., 1., -1., 0.),\n",
    "            duration=(duration/4,) * 4,\n",
    "            time_step=brainstate.environ.get_dt()\n",
    "        )\n",
    "        task.get_data()\n",
    "        \n",
    "        # 4. Run simulation\n",
    "        def run_step(t, inputs):\n",
    "            cann(inputs)\n",
    "            return cann.u.value\n",
    "        \n",
    "        outputs = brainstate.compile.for_loop(\n",
    "            run_step,\n",
    "            task.run_steps,\n",
    "            task.data,\n",
    "            pbar=brainstate.compile.ProgressBar(5)\n",
    "        )\n",
    "        \n",
    "        return cann, outputs\n",
    "    \n",
    "    return cann, None\n",
    "\n",
    "# Example usage\n",
    "print(\"Running template simulation...\")\n",
    "network, results = run_cann_simulation(\"1D\", 128, 8.0)\n",
    "print(f\"Simulation complete! Output shape: {results.shape}\")"
   ]
  },
  {
   "cell_type": "markdown",
   "metadata": {},
   "source": [
    "## Next Steps\n",
    "\n",
    "Now that you've seen the basics, you're ready to explore:\n",
    "\n",
    "1. **[Core Concepts](03_core_concepts.ipynb)** - Deep dive into the theory\n",
    "2. **[1D Networks](04_1d_networks.ipynb)** - Detailed 1D CANN tutorial  \n",
    "3. **[2D Networks](05_2d_networks.ipynb)** - Spatial representation with 2D CANNs\n",
    "4. **[Hierarchical Models](06_hierarchical_models.ipynb)** - Multi-layer architectures\n",
    "5. **[Custom Tasks](07_custom_tasks.ipynb)** - Create your own experiments\n",
    "6. **[Visualization](08_visualization.ipynb)** - Advanced plotting techniques\n",
    "7. **[Performance](09_performance_optimization.ipynb)** - Scaling and optimization\n",
    "\n",
    "## Resources\n",
    "\n",
    "- **API Documentation**: Complete reference for all functions and classes\n",
    "- **Example Scripts**: Ready-to-run examples in the repository\n",
    "- **Community**: Join discussions and get help from other users\n",
    "\n",
    "Happy modeling! 🧠✨"
   ]
  }
 ],
 "metadata": {
  "kernelspec": {
   "display_name": "Python 3",\n",
   "language": "python",\n",
   "name": "python3"\n  },
  "language_info": {
   "codemirror_mode": {
    "name": "ipython",
    "version": 3
   },
   "file_extension": ".py",
   "mimetype": "text/x-python",
   "name": "python",
   "nbconvert_exporter": "python",
   "pygments_lexer": "ipython3",
   "version": "3.11.0"
  }
 },
 "nbformat": 4,
 "nbformat_minor": 4
}